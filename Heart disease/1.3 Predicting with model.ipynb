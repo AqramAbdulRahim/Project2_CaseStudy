{
 "cells": [
  {
   "cell_type": "code",
   "execution_count": 1,
   "id": "worst-instruction",
   "metadata": {},
   "outputs": [],
   "source": [
    "import pandas as pd\n",
    "import seaborn as sns\n",
    "import matplotlib.pyplot as plt\n",
    "import numpy as np"
   ]
  },
  {
   "cell_type": "code",
   "execution_count": 2,
   "id": "hungarian-henry",
   "metadata": {},
   "outputs": [],
   "source": [
    "from joblib import dump, load"
   ]
  },
  {
   "cell_type": "code",
   "execution_count": 3,
   "id": "important-correspondence",
   "metadata": {},
   "outputs": [],
   "source": [
    "heart_model = load('heart_model.h5')"
   ]
  },
  {
   "cell_type": "code",
   "execution_count": 4,
   "id": "correct-nebraska",
   "metadata": {},
   "outputs": [],
   "source": [
    "heart_scaler = load('heart_scaler.pkl')"
   ]
  },
  {
   "cell_type": "code",
   "execution_count": 5,
   "id": "compatible-pregnancy",
   "metadata": {},
   "outputs": [],
   "source": [
    "df = pd.read_csv('heart_edited')"
   ]
  },
  {
   "cell_type": "code",
   "execution_count": 9,
   "id": "amended-maximum",
   "metadata": {},
   "outputs": [
    {
     "data": {
      "text/html": [
       "<div>\n",
       "<style scoped>\n",
       "    .dataframe tbody tr th:only-of-type {\n",
       "        vertical-align: middle;\n",
       "    }\n",
       "\n",
       "    .dataframe tbody tr th {\n",
       "        vertical-align: top;\n",
       "    }\n",
       "\n",
       "    .dataframe thead th {\n",
       "        text-align: right;\n",
       "    }\n",
       "</style>\n",
       "<table border=\"1\" class=\"dataframe\">\n",
       "  <thead>\n",
       "    <tr style=\"text-align: right;\">\n",
       "      <th></th>\n",
       "      <th>age</th>\n",
       "      <th>sex</th>\n",
       "      <th>cp</th>\n",
       "      <th>trestbps</th>\n",
       "      <th>chol</th>\n",
       "      <th>fbs</th>\n",
       "      <th>restecg</th>\n",
       "      <th>thalach</th>\n",
       "      <th>exang</th>\n",
       "      <th>oldpeak</th>\n",
       "      <th>slope</th>\n",
       "      <th>ca</th>\n",
       "      <th>thal</th>\n",
       "      <th>target</th>\n",
       "    </tr>\n",
       "  </thead>\n",
       "  <tbody>\n",
       "    <tr>\n",
       "      <th>0</th>\n",
       "      <td>63</td>\n",
       "      <td>1</td>\n",
       "      <td>3</td>\n",
       "      <td>145</td>\n",
       "      <td>233</td>\n",
       "      <td>1</td>\n",
       "      <td>0</td>\n",
       "      <td>150</td>\n",
       "      <td>0</td>\n",
       "      <td>2.3</td>\n",
       "      <td>0</td>\n",
       "      <td>0</td>\n",
       "      <td>1</td>\n",
       "      <td>1</td>\n",
       "    </tr>\n",
       "  </tbody>\n",
       "</table>\n",
       "</div>"
      ],
      "text/plain": [
       "   age  sex  cp  trestbps  chol  fbs  restecg  thalach  exang  oldpeak  slope  \\\n",
       "0   63    1   3       145   233    1        0      150      0      2.3      0   \n",
       "\n",
       "   ca  thal  target  \n",
       "0   0     1       1  "
      ]
     },
     "execution_count": 9,
     "metadata": {},
     "output_type": "execute_result"
    }
   ],
   "source": [
    "df.head(1)"
   ]
  },
  {
   "cell_type": "code",
   "execution_count": 18,
   "id": "polished-projector",
   "metadata": {},
   "outputs": [
    {
     "data": {
      "text/plain": [
       "array([1, 2, 3, 0], dtype=int64)"
      ]
     },
     "execution_count": 18,
     "metadata": {},
     "output_type": "execute_result"
    }
   ],
   "source": [
    "df['thal'].unique()"
   ]
  },
  {
   "cell_type": "code",
   "execution_count": 22,
   "id": "connected-documentary",
   "metadata": {},
   "outputs": [],
   "source": [
    "heart_example = {'age':63,\n",
    "                 'sex':1,\n",
    "                 'cp':3,\n",
    "                 'trestbps':145,\n",
    "                 'chol': 233,\n",
    "                 'fbs':1,\n",
    "                 'restecg':0,\n",
    "                 'thalach':150,\n",
    "                 'exang':0,\n",
    "                 'oldpeak':2.3,\n",
    "                 'slope':0,\n",
    "                 'ca':0,\n",
    "                 'thal':1}"
   ]
  },
  {
   "cell_type": "code",
   "execution_count": 16,
   "id": "diagnostic-panic",
   "metadata": {},
   "outputs": [
    {
     "data": {
      "text/plain": [
       "dict_keys(['age', 'sex', 'cp', 'trestbps', 'chol', 'fbs', 'restecg', 'thalach', 'exang', 'oldpeak', 'slope', 'ca', 'thal'])"
      ]
     },
     "execution_count": 16,
     "metadata": {},
     "output_type": "execute_result"
    }
   ],
   "source": [
    "heart_example.keys()"
   ]
  },
  {
   "cell_type": "code",
   "execution_count": 18,
   "id": "decreased-answer",
   "metadata": {},
   "outputs": [],
   "source": [
    "\n",
    "def return_prediction(model,scaler,sample_json): # json is just the data we wan to predict. in this case is the dictionary\n",
    "    \n",
    "    age = sample_json['age']\n",
    "    sex = sample_json['sex']\n",
    "    cp = sample_json['cp']\n",
    "    trestbps = sample_json['trestbps']\n",
    "    chol = sample_json['chol']\n",
    "    fbs = sample_json['fbs']\n",
    "    restecg = sample_json['restecg']\n",
    "    thalach = sample_json['thalach']\n",
    "    exang = sample_json['exang']\n",
    "    oldpeak = sample_json['oldpeak']\n",
    "    slope = sample_json['slope']\n",
    "    ca = sample_json['ca']\n",
    "    thal = sample_json['thal']\n",
    "    \n",
    "    heart = [[age, sex, cp, trestbps, chol, fbs, restecg, thalach, exang, oldpeak, slope, ca, thal]]\n",
    "    \n",
    "    heart = scaler.transform(heart)\n",
    "    \n",
    "    #classes = np.array(['setosa', 'versicolor', 'virginica'])\n",
    "    \n",
    "    prediction= model.predict(heart)\n",
    "    \n",
    "    return prediction[0]\n",
    "                    \n"
   ]
  },
  {
   "cell_type": "code",
   "execution_count": 23,
   "id": "fresh-click",
   "metadata": {},
   "outputs": [
    {
     "data": {
      "text/plain": [
       "1"
      ]
     },
     "execution_count": 23,
     "metadata": {},
     "output_type": "execute_result"
    }
   ],
   "source": [
    "return_prediction(heart_model,heart_scaler,heart_example)"
   ]
  },
  {
   "cell_type": "markdown",
   "id": "gross-latex",
   "metadata": {},
   "source": [
    "# predicting with example given"
   ]
  },
  {
   "cell_type": "code",
   "execution_count": 24,
   "id": "distributed-stack",
   "metadata": {},
   "outputs": [],
   "source": [
    "heart_example2 = {'age':48,\n",
    "                 'sex':0,\n",
    "                 'cp':2,\n",
    "                 'trestbps':130,\n",
    "                 'chol': 275,\n",
    "                 'fbs':0,\n",
    "                 'restecg':1,\n",
    "                 'thalach':139,\n",
    "                 'exang':0,\n",
    "                 'oldpeak':0.2,\n",
    "                 'slope':2,\n",
    "                 'ca':0,\n",
    "                 'thal':2}"
   ]
  },
  {
   "cell_type": "code",
   "execution_count": 25,
   "id": "institutional-resource",
   "metadata": {},
   "outputs": [
    {
     "data": {
      "text/plain": [
       "1"
      ]
     },
     "execution_count": 25,
     "metadata": {},
     "output_type": "execute_result"
    }
   ],
   "source": [
    "return_prediction(heart_model,heart_scaler,heart_example2)"
   ]
  },
  {
   "cell_type": "markdown",
   "id": "greatest-burke",
   "metadata": {},
   "source": [
    "# Code for deployment"
   ]
  },
  {
   "cell_type": "code",
   "execution_count": 26,
   "id": "entire-sequence",
   "metadata": {},
   "outputs": [],
   "source": [
    "from joblib import dump, load\n",
    "heart_model = load(\"heart_model.h5\")\n",
    "heart_scaler = load(\"heart_scaler.pkl\")\n",
    "def return_prediction(model,scaler,sample_json):\n",
    "    \n",
    "     # For larger data features, you should probably write a for loop\n",
    "    # That builds out this array for you\n",
    "    \n",
    "    age = sample_json['age']\n",
    "    sex = sample_json['sex']\n",
    "    cp = sample_json['cp']\n",
    "    trestbps = sample_json['trestbps']\n",
    "    chol = sample_json['chol']\n",
    "    fbs = sample_json['fbs']\n",
    "    restecg = sample_json['restecg']\n",
    "    thalach = sample_json['thalach']\n",
    "    exang = sample_json['exang']\n",
    "    oldpeak = sample_json['oldpeak']\n",
    "    slope = sample_json['slope']\n",
    "    ca = sample_json['ca']\n",
    "    thal = sample_json['thal']\n",
    "    \n",
    "    heart = [[age, sex, cp, trestbps, chol, fbs, restecg, thalach, exang, oldpeak, slope, ca, thal]]\n",
    "    \n",
    "    heart = scaler.transform(heart)\n",
    "    \n",
    "    #classes = np.array(['setosa', 'versicolor', 'virginica'])\n",
    "    \n",
    "    prediction= model.predict(heart)\n",
    "    \n",
    "    return prediction[0]"
   ]
  },
  {
   "cell_type": "code",
   "execution_count": null,
   "id": "eligible-silicon",
   "metadata": {},
   "outputs": [],
   "source": []
  }
 ],
 "metadata": {
  "kernelspec": {
   "display_name": "Python 3",
   "language": "python",
   "name": "python3"
  },
  "language_info": {
   "codemirror_mode": {
    "name": "ipython",
    "version": 3
   },
   "file_extension": ".py",
   "mimetype": "text/x-python",
   "name": "python",
   "nbconvert_exporter": "python",
   "pygments_lexer": "ipython3",
   "version": "3.7.10"
  }
 },
 "nbformat": 4,
 "nbformat_minor": 5
}
